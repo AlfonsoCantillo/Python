{
 "cells": [
  {
   "cell_type": "code",
   "execution_count": 3,
   "metadata": {},
   "outputs": [],
   "source": [
    "import pandas as pd\n",
    "\n",
    "dato={\n",
    "  'nombre':['Juan','Maria','Pedro','Ana'],\n",
    "  'edad':[20,21,22,23],\n",
    "  'ciudad':['Barranquilla','Valparaiso','Concepcion','Antofagasta']\n",
    "}\n",
    "\n",
    "df=pd.DataFrame(dato)\n",
    "\n"
   ]
  },
  {
   "cell_type": "code",
   "execution_count": 6,
   "metadata": {},
   "outputs": [
    {
     "name": "stdout",
     "output_type": "stream",
     "text": [
      "  nombre  edad        ciudad\n",
      "0   Juan    20  Barranquilla\n",
      "1  Maria    21    Valparaiso\n",
      "2  Pedro    22    Concepcion\n",
      "3    Ana    23   Antofagasta\n"
     ]
    }
   ],
   "source": [
    "print(df)"
   ]
  }
 ],
 "metadata": {
  "kernelspec": {
   "display_name": "Python 3",
   "language": "python",
   "name": "python3"
  },
  "language_info": {
   "codemirror_mode": {
    "name": "ipython",
    "version": 3
   },
   "file_extension": ".py",
   "mimetype": "text/x-python",
   "name": "python",
   "nbconvert_exporter": "python",
   "pygments_lexer": "ipython3",
   "version": "3.12.3"
  }
 },
 "nbformat": 4,
 "nbformat_minor": 2
}
